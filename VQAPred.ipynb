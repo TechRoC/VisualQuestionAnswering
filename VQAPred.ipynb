{
  "nbformat": 4,
  "nbformat_minor": 0,
  "metadata": {
    "colab": {
      "name": "Untitled6.ipynb",
      "provenance": [],
      "machine_shape": "hm",
      "include_colab_link": true
    },
    "kernelspec": {
      "name": "python3",
      "display_name": "Python 3"
    },
    "accelerator": "TPU"
  },
  "cells": [
    {
      "cell_type": "markdown",
      "metadata": {
        "id": "view-in-github",
        "colab_type": "text"
      },
      "source": [
        "<a href=\"https://colab.research.google.com/github/gowthambalachandhiran/VisualQuestionAnswering/blob/master/VQAPred.ipynb\" target=\"_parent\"><img src=\"https://colab.research.google.com/assets/colab-badge.svg\" alt=\"Open In Colab\"/></a>"
      ]
    },
    {
      "cell_type": "code",
      "metadata": {
        "id": "9VKSxvLOlmS-",
        "colab_type": "code",
        "colab": {
          "base_uri": "https://localhost:8080/",
          "height": 102
        },
        "outputId": "22e7d91f-c70d-414b-889a-9e42fc8a4622"
      },
      "source": [
        "pip install keras==2.1.0"
      ],
      "execution_count": 1,
      "outputs": [
        {
          "output_type": "stream",
          "text": [
            "Requirement already satisfied: keras==2.1.0 in /usr/local/lib/python3.6/dist-packages (2.1.0)\n",
            "Requirement already satisfied: six>=1.9.0 in /usr/local/lib/python3.6/dist-packages (from keras==2.1.0) (1.12.0)\n",
            "Requirement already satisfied: numpy>=1.9.1 in /usr/local/lib/python3.6/dist-packages (from keras==2.1.0) (1.17.4)\n",
            "Requirement already satisfied: pyyaml in /usr/local/lib/python3.6/dist-packages (from keras==2.1.0) (3.13)\n",
            "Requirement already satisfied: scipy>=0.14 in /usr/local/lib/python3.6/dist-packages (from keras==2.1.0) (1.3.2)\n"
          ],
          "name": "stdout"
        }
      ]
    },
    {
      "cell_type": "code",
      "metadata": {
        "id": "LF9KhpSZlzd1",
        "colab_type": "code",
        "colab": {
          "base_uri": "https://localhost:8080/",
          "height": 88
        },
        "outputId": "34ae58fe-9827-4555-e07a-f391877f3d75"
      },
      "source": [
        "%matplotlib inline\n",
        "import warnings\n",
        "warnings.filterwarnings(\"ignore\")\n",
        "import keras\n",
        "import os, argparse\n",
        "import cv2, spacy, numpy as np\n",
        "from keras.layers import Input, LSTM, Embedding, Dense\n",
        "from keras.applications.vgg16 import VGG16\n",
        "from keras.models import model_from_json\n",
        "from keras.optimizers import SGD\n",
        "from sklearn.externals import joblib\n",
        "from keras import backend as K\n",
        "from keras.utils.vis_utils import plot_model\n",
        "K.set_image_data_format('channels_first')\n",
        "import csv"
      ],
      "execution_count": 2,
      "outputs": [
        {
          "output_type": "stream",
          "text": [
            "Using TensorFlow backend.\n",
            "/usr/local/lib/python3.6/dist-packages/sklearn/externals/joblib/__init__.py:15: DeprecationWarning: sklearn.externals.joblib is deprecated in 0.21 and will be removed in 0.23. Please import this functionality directly from joblib, which can be installed with: pip install joblib. If this warning is raised when loading pickled models, you may need to re-serialize those models with scikit-learn 0.21+.\n",
            "  warnings.warn(msg, category=DeprecationWarning)\n"
          ],
          "name": "stderr"
        }
      ]
    },
    {
      "cell_type": "code",
      "metadata": {
        "id": "8sV_4-VLmB2U",
        "colab_type": "code",
        "colab": {}
      },
      "source": [
        "def get_image_model_without():\n",
        "    ''' Takes the CNN weights file, and returns the VGG model update \n",
        "    with the weights. Requires the file VGG.py inside models/CNN '''\n",
        "    image_model = VGG16(weights='imagenet', include_top=False)\n",
        "    image_model.layers.pop()\n",
        "    image_model.layers.pop()\n",
        "    # this is standard VGG 16 without the last two layers\n",
        "    sgd = SGD(lr=0.1, decay=1e-6, momentum=0.9, nesterov=True)\n",
        "    # one may experiment with \"adam\" optimizer, but the loss function for\n",
        "    # this kind of task is pretty standard\n",
        "    image_model.compile(optimizer=sgd, loss='categorical_crossentropy')\n",
        "    return image_model"
      ],
      "execution_count": 0,
      "outputs": []
    },
    {
      "cell_type": "code",
      "metadata": {
        "id": "EzxuQehImEYN",
        "colab_type": "code",
        "colab": {
          "base_uri": "https://localhost:8080/",
          "height": 530
        },
        "outputId": "7b13fffb-bb02-4d55-971a-d6d0558d2153"
      },
      "source": [
        "vgg_without = get_image_model_without()"
      ],
      "execution_count": 4,
      "outputs": [
        {
          "output_type": "stream",
          "text": [
            "WARNING:tensorflow:From /usr/local/lib/python3.6/dist-packages/keras/backend/tensorflow_backend.py:63: The name tf.get_default_graph is deprecated. Please use tf.compat.v1.get_default_graph instead.\n",
            "\n",
            "WARNING:tensorflow:From /usr/local/lib/python3.6/dist-packages/keras/backend/tensorflow_backend.py:492: The name tf.placeholder is deprecated. Please use tf.compat.v1.placeholder instead.\n",
            "\n",
            "WARNING:tensorflow:From /usr/local/lib/python3.6/dist-packages/keras/backend/tensorflow_backend.py:3630: The name tf.random_uniform is deprecated. Please use tf.random.uniform instead.\n",
            "\n",
            "WARNING:tensorflow:From /usr/local/lib/python3.6/dist-packages/keras/backend/tensorflow_backend.py:158: The name tf.get_default_session is deprecated. Please use tf.compat.v1.get_default_session instead.\n",
            "\n",
            "WARNING:tensorflow:From /usr/local/lib/python3.6/dist-packages/keras/backend/tensorflow_backend.py:163: The name tf.ConfigProto is deprecated. Please use tf.compat.v1.ConfigProto instead.\n",
            "\n",
            "WARNING:tensorflow:From /usr/local/lib/python3.6/dist-packages/keras/backend/tensorflow_backend.py:168: The name tf.Session is deprecated. Please use tf.compat.v1.Session instead.\n",
            "\n",
            "WARNING:tensorflow:From /usr/local/lib/python3.6/dist-packages/keras/backend/tensorflow_backend.py:172: The name tf.global_variables is deprecated. Please use tf.compat.v1.global_variables instead.\n",
            "\n",
            "WARNING:tensorflow:From /usr/local/lib/python3.6/dist-packages/keras/backend/tensorflow_backend.py:181: The name tf.is_variable_initialized is deprecated. Please use tf.compat.v1.is_variable_initialized instead.\n",
            "\n",
            "WARNING:tensorflow:From /usr/local/lib/python3.6/dist-packages/keras/backend/tensorflow_backend.py:188: The name tf.variables_initializer is deprecated. Please use tf.compat.v1.variables_initializer instead.\n",
            "\n",
            "WARNING:tensorflow:From /usr/local/lib/python3.6/dist-packages/keras/backend/tensorflow_backend.py:3458: The name tf.nn.max_pool is deprecated. Please use tf.nn.max_pool2d instead.\n",
            "\n",
            "Downloading data from https://github.com/fchollet/deep-learning-models/releases/download/v0.1/vgg16_weights_tf_dim_ordering_tf_kernels_notop.h5\n",
            "58892288/58889256 [==============================] - 1s 0us/step\n",
            "WARNING:tensorflow:From /usr/local/lib/python3.6/dist-packages/keras/optimizers.py:711: The name tf.train.Optimizer is deprecated. Please use tf.compat.v1.train.Optimizer instead.\n",
            "\n",
            "WARNING:tensorflow:From /usr/local/lib/python3.6/dist-packages/keras/backend/tensorflow_backend.py:2880: calling reduce_sum_v1 (from tensorflow.python.ops.math_ops) with keep_dims is deprecated and will be removed in a future version.\n",
            "Instructions for updating:\n",
            "keep_dims is deprecated, use keepdims instead\n",
            "WARNING:tensorflow:From /usr/local/lib/python3.6/dist-packages/keras/backend/tensorflow_backend.py:2884: The name tf.log is deprecated. Please use tf.math.log instead.\n",
            "\n"
          ],
          "name": "stdout"
        }
      ]
    },
    {
      "cell_type": "code",
      "metadata": {
        "id": "Hpwl0QFg7-vq",
        "colab_type": "code",
        "colab": {
          "base_uri": "https://localhost:8080/",
          "height": 88
        },
        "outputId": "991ff989-5ae5-4697-e834-d280d3b4077f"
      },
      "source": [
        "!python -m spacy download en_core_web_md"
      ],
      "execution_count": 4,
      "outputs": [
        {
          "output_type": "stream",
          "text": [
            "Requirement already satisfied: en_core_web_md==2.1.0 from https://github.com/explosion/spacy-models/releases/download/en_core_web_md-2.1.0/en_core_web_md-2.1.0.tar.gz#egg=en_core_web_md==2.1.0 in /usr/local/lib/python3.6/dist-packages (2.1.0)\n",
            "\u001b[38;5;2m✔ Download and installation successful\u001b[0m\n",
            "You can now load the model via spacy.load('en_core_web_md')\n"
          ],
          "name": "stdout"
        }
      ]
    },
    {
      "cell_type": "code",
      "metadata": {
        "id": "GCbm73RBmI8P",
        "colab_type": "code",
        "colab": {}
      },
      "source": [
        "def get_question_features_without_fd(question):\n",
        "    ''' For a given question, a unicode string, returns the time series vector\n",
        "    with each word (token) transformed into a 300 dimension representation\n",
        "    calculated using Glove Vector '''\n",
        "    word_embeddings = spacy.load('en_core_web_md')\n",
        "    tokens = word_embeddings(question)\n",
        "    question_tensor = np.zeros((30, 300))\n",
        "    for j in range(len(tokens)):\n",
        "        question_tensor[j,:] = tokens[j].vector\n",
        "    return question_tensor"
      ],
      "execution_count": 0,
      "outputs": []
    },
    {
      "cell_type": "code",
      "metadata": {
        "id": "BuHlAil-tltx",
        "colab_type": "code",
        "colab": {}
      },
      "source": [
        "from keras.preprocessing import image\n",
        "from keras.applications import vgg16\n",
        "from keras.models import Model"
      ],
      "execution_count": 0,
      "outputs": []
    },
    {
      "cell_type": "code",
      "metadata": {
        "id": "YqnaRo88mNZW",
        "colab_type": "code",
        "colab": {}
      },
      "source": [
        "def get_image_features_without_fd(image_file_name):\n",
        "    ''' Runs the given image_file to VGG 16 model and returns the \n",
        "    weights (filters) as a 1, 4096 dimension vector '''\n",
        "    img = image.load_img(image_file_name, target_size=(224, 224))\n",
        "    model = vgg16.VGG16(weights='imagenet', include_top=True)\n",
        "    x = image.img_to_array(img)\n",
        "    x = np.expand_dims(x, axis=0)\n",
        "    x = preprocess_input(x)\n",
        "    features = model.predict(x)\n",
        "    model_extractfeatures = Model(input=model.input, output=model.get_layer('fc2').output)\n",
        "    fc2_features = model_extractfeatures.predict(x)\n",
        "    image_features = fc2_features.reshape((4096,1))\n",
        "    return image_features"
      ],
      "execution_count": 0,
      "outputs": []
    },
    {
      "cell_type": "code",
      "metadata": {
        "id": "a97ShS3imRxu",
        "colab_type": "code",
        "colab": {}
      },
      "source": [
        "def get_VQA_model():\n",
        "    ''' Given the VQA model and its weights, compiles and returns the model '''\n",
        "\n",
        "    # thanks the keras function for loading a model from JSON, this becomes\n",
        "    # very easy to understand and work. Alternative would be to load model\n",
        "    # from binary like cPickle but then model would be obfuscated to users\n",
        "    vqa_model = model_from_json(open(\"/content/model/our_model_final.json\").read())\n",
        "    # vqa_model.load_weights(VQA_weights_file_name)\n",
        "    vqa_model.compile(loss='categorical_crossentropy', optimizer='rmsprop')\n",
        "    return vqa_model"
      ],
      "execution_count": 0,
      "outputs": []
    },
    {
      "cell_type": "code",
      "metadata": {
        "id": "BL4St1LDmhXD",
        "colab_type": "code",
        "colab": {
          "base_uri": "https://localhost:8080/",
          "height": 802
        },
        "outputId": "3126e0b6-c681-45ab-f18f-c8f353618c5c"
      },
      "source": [
        "our_vqa_model = get_VQA_model()\n",
        "our_vqa_model.summary()"
      ],
      "execution_count": 9,
      "outputs": [
        {
          "output_type": "stream",
          "text": [
            "WARNING:tensorflow:From /usr/local/lib/python3.6/dist-packages/keras/backend/tensorflow_backend.py:63: The name tf.get_default_graph is deprecated. Please use tf.compat.v1.get_default_graph instead.\n",
            "\n",
            "WARNING:tensorflow:From /usr/local/lib/python3.6/dist-packages/keras/backend/tensorflow_backend.py:492: The name tf.placeholder is deprecated. Please use tf.compat.v1.placeholder instead.\n",
            "\n",
            "WARNING:tensorflow:From /usr/local/lib/python3.6/dist-packages/keras/backend/tensorflow_backend.py:3630: The name tf.random_uniform is deprecated. Please use tf.random.uniform instead.\n",
            "\n",
            "WARNING:tensorflow:From /usr/local/lib/python3.6/dist-packages/keras/backend/tensorflow_backend.py:1242: calling reduce_sum_v1 (from tensorflow.python.ops.math_ops) with keep_dims is deprecated and will be removed in a future version.\n",
            "Instructions for updating:\n",
            "keep_dims is deprecated, use keepdims instead\n",
            "WARNING:tensorflow:From /usr/local/lib/python3.6/dist-packages/keras/backend/tensorflow_backend.py:3013: calling dropout (from tensorflow.python.ops.nn_ops) with keep_prob is deprecated and will be removed in a future version.\n",
            "Instructions for updating:\n",
            "Please use `rate` instead of `keep_prob`. Rate should be set to `rate = 1 - keep_prob`.\n",
            "WARNING:tensorflow:From /usr/local/lib/python3.6/dist-packages/keras/optimizers.py:711: The name tf.train.Optimizer is deprecated. Please use tf.compat.v1.train.Optimizer instead.\n",
            "\n",
            "WARNING:tensorflow:From /usr/local/lib/python3.6/dist-packages/keras/backend/tensorflow_backend.py:2884: The name tf.log is deprecated. Please use tf.math.log instead.\n",
            "\n",
            "_________________________________________________________________\n",
            "Layer (type)                 Output Shape              Param #   \n",
            "=================================================================\n",
            "merge_2 (Merge)              (None, 4608)              0         \n",
            "_________________________________________________________________\n",
            "dense_5 (Dense)              (None, 1024)              4719616   \n",
            "_________________________________________________________________\n",
            "activation_5 (Activation)    (None, 1024)              0         \n",
            "_________________________________________________________________\n",
            "dropout_4 (Dropout)          (None, 1024)              0         \n",
            "_________________________________________________________________\n",
            "dense_6 (Dense)              (None, 1024)              1049600   \n",
            "_________________________________________________________________\n",
            "activation_6 (Activation)    (None, 1024)              0         \n",
            "_________________________________________________________________\n",
            "dropout_5 (Dropout)          (None, 1024)              0         \n",
            "_________________________________________________________________\n",
            "dense_7 (Dense)              (None, 1024)              1049600   \n",
            "_________________________________________________________________\n",
            "activation_7 (Activation)    (None, 1024)              0         \n",
            "_________________________________________________________________\n",
            "dropout_6 (Dropout)          (None, 1024)              0         \n",
            "_________________________________________________________________\n",
            "dense_1 (Dense)              (None, 10)                10250     \n",
            "=================================================================\n",
            "Total params: 12,692,490\n",
            "Trainable params: 12,692,490\n",
            "Non-trainable params: 0\n",
            "_________________________________________________________________\n"
          ],
          "name": "stdout"
        }
      ]
    },
    {
      "cell_type": "code",
      "metadata": {
        "id": "lPzJyWXXmqdC",
        "colab_type": "code",
        "colab": {
          "base_uri": "https://localhost:8080/",
          "height": 88
        },
        "outputId": "127b01ad-5bcc-48a2-847d-714473cbb884"
      },
      "source": [
        "!python -m spacy download en_core_web_md\n"
      ],
      "execution_count": 10,
      "outputs": [
        {
          "output_type": "stream",
          "text": [
            "Requirement already satisfied: en_core_web_md==2.1.0 from https://github.com/explosion/spacy-models/releases/download/en_core_web_md-2.1.0/en_core_web_md-2.1.0.tar.gz#egg=en_core_web_md==2.1.0 in /usr/local/lib/python3.6/dist-packages (2.1.0)\n",
            "\u001b[38;5;2m✔ Download and installation successful\u001b[0m\n",
            "You can now load the model via spacy.load('en_core_web_md')\n"
          ],
          "name": "stdout"
        }
      ]
    },
    {
      "cell_type": "code",
      "metadata": {
        "id": "ZJUOihVRmtJb",
        "colab_type": "code",
        "colab": {
          "base_uri": "https://localhost:8080/",
          "height": 34
        },
        "outputId": "3bbb8f30-4dc3-4b6e-e1da-52a551bc365b"
      },
      "source": [
        "training_datas = []\n",
        "with open('/content/CSV/training.csv') as csv_file:\n",
        "  csv_reader = csv.reader(csv_file, delimiter=',')\n",
        "  for row in csv_reader:\n",
        "    training_datas.append(row)\n",
        "training_datas = training_datas[1:]\n",
        "len(training_datas)"
      ],
      "execution_count": 11,
      "outputs": [
        {
          "output_type": "execute_result",
          "data": {
            "text/plain": [
              "56"
            ]
          },
          "metadata": {
            "tags": []
          },
          "execution_count": 11
        }
      ]
    },
    {
      "cell_type": "code",
      "metadata": {
        "id": "ydGSSujqnNUQ",
        "colab_type": "code",
        "colab": {
          "base_uri": "https://localhost:8080/",
          "height": 54
        },
        "outputId": "75f88df8-7c8c-4040-f8bc-00ad054af1d8"
      },
      "source": [
        "print(training_datas)"
      ],
      "execution_count": 12,
      "outputs": [
        {
          "output_type": "stream",
          "text": [
            "[['1', 'is this xray', 'yes'], ['2', 'Does this image has single or multiple facture', 'single'], ['3', 'Does this image have single or multiple facture', 'multiple'], ['4', 'is this xray showing foreign body', 'foreign'], ['5', 'is this xray', 'yes'], ['6', 'foreign body oresent', 'foreign'], ['7', 'what is the body part in xray', 'hand'], ['8', 'what is the body part in xray', 'skull'], ['9', 'what is the body part in xray', 'skull'], ['10', 'what is the body part in xray', 'skull'], ['11', 'what is the body part in xray', 'skull'], ['12', 'what is the body part in xray', 'hand'], ['13', 'is this left or righ hand', 'left'], ['14', 'is this left or righ hand', 'left'], ['15', 'is this left or righ hand', 'right'], ['16', 'is this left or righ hand', 'left'], ['17', 'is this left or righ hand', 'right'], ['18', 'is this left or righ hand', 'right'], ['19', 'is this left or righ hand', 'right'], ['20', 'is this left or righ hand', 'right'], ['21', 'is this left or righ hand', 'left'], ['22', 'is this left or righ hand', 'left'], ['23', 'is this left or righ hand', 'left'], ['24', 'is this left or righ hand', 'left'], ['25', 'is this left or righ hand', 'left'], ['26', 'is this left or righ hand', 'left'], ['27', 'is this left or righ hand', 'left'], ['28', 'is this left or righ hand', 'left'], ['29', 'is this xray', 'yes'], ['30', 'is this xray', 'yes'], ['31', 'foreign body oresent', 'foreign'], ['32', 'foreign body oresent', 'foreign'], ['33', 'foreign body oresent', 'foreign'], ['34', 'foreign body oresent', 'foreign'], ['35', 'foreign body oresent', 'foreign'], ['36', 'what is the body part in xray', 'leg'], ['37', 'what is the body part in xray', 'leg'], ['38', 'what is the body part in xray', 'leg'], ['39', 'what is the body part in xray', 'leg'], ['40', 'what is the body part in xray', 'leg'], ['41', 'what is the body part in xray', 'leg'], ['42', 'what is the body part in xray', 'leg'], ['43', 'Does this image have single or multiple facture', 'multiple'], ['45', 'Does this image have single or multiple facture', 'multiple'], ['46', 'Does this image have single or multiple facture', 'multiple'], ['47', 'is this xray', 'no'], ['48', 'is this xray', 'no'], ['49', 'is this xray', 'no'], ['50', 'is this xray', 'no'], ['53', 'is this xray', 'no'], ['54', 'is this xray', 'no'], ['55', 'is this xray', 'yes'], ['56', 'is this xray', 'yes'], ['57', 'is this xray', 'yes'], ['58', 'is this xray', 'yes'], ['59', 'is this xray', 'yes']]\n"
          ],
          "name": "stdout"
        }
      ]
    },
    {
      "cell_type": "code",
      "metadata": {
        "id": "8IJFCWUop3Tv",
        "colab_type": "code",
        "colab": {}
      },
      "source": [
        "from keras.applications.vgg16 import preprocess_input"
      ],
      "execution_count": 0,
      "outputs": []
    },
    {
      "cell_type": "code",
      "metadata": {
        "id": "OC4cfkANnXol",
        "colab_type": "code",
        "colab": {
          "base_uri": "https://localhost:8080/",
          "height": 1000
        },
        "outputId": "2cac24a2-e169-43e8-dcdb-21ee48b87289"
      },
      "source": [
        "\n",
        "trainX= []\n",
        "for training_data in training_datas:\n",
        "  img_id,text,output = training_data\n",
        "  print(\"Processing {} image\".format(img_id))\n",
        "  image_features = get_image_features_without_fd(\"/content/Images/{}.jpg\".format(img_id))\n",
        "  question_features = get_question_features_without_fd(text)\n",
        "  trainX.append([question_features,image_features])\n",
        "np.array(trainX).shape"
      ],
      "execution_count": 14,
      "outputs": [
        {
          "output_type": "stream",
          "text": [
            "Processing 1 image\n",
            "WARNING:tensorflow:From /usr/local/lib/python3.6/dist-packages/keras/backend/tensorflow_backend.py:158: The name tf.get_default_session is deprecated. Please use tf.compat.v1.get_default_session instead.\n",
            "\n",
            "WARNING:tensorflow:From /usr/local/lib/python3.6/dist-packages/keras/backend/tensorflow_backend.py:163: The name tf.ConfigProto is deprecated. Please use tf.compat.v1.ConfigProto instead.\n",
            "\n",
            "WARNING:tensorflow:From /usr/local/lib/python3.6/dist-packages/keras/backend/tensorflow_backend.py:168: The name tf.Session is deprecated. Please use tf.compat.v1.Session instead.\n",
            "\n",
            "WARNING:tensorflow:From /usr/local/lib/python3.6/dist-packages/keras/backend/tensorflow_backend.py:172: The name tf.global_variables is deprecated. Please use tf.compat.v1.global_variables instead.\n",
            "\n",
            "WARNING:tensorflow:From /usr/local/lib/python3.6/dist-packages/keras/backend/tensorflow_backend.py:181: The name tf.is_variable_initialized is deprecated. Please use tf.compat.v1.is_variable_initialized instead.\n",
            "\n",
            "WARNING:tensorflow:From /usr/local/lib/python3.6/dist-packages/keras/backend/tensorflow_backend.py:188: The name tf.variables_initializer is deprecated. Please use tf.compat.v1.variables_initializer instead.\n",
            "\n",
            "WARNING:tensorflow:From /usr/local/lib/python3.6/dist-packages/keras/backend/tensorflow_backend.py:3458: The name tf.nn.max_pool is deprecated. Please use tf.nn.max_pool2d instead.\n",
            "\n",
            "WARNING:tensorflow:From /usr/local/lib/python3.6/dist-packages/keras/backend/tensorflow_backend.py:1259: calling reduce_prod_v1 (from tensorflow.python.ops.math_ops) with keep_dims is deprecated and will be removed in a future version.\n",
            "Instructions for updating:\n",
            "keep_dims is deprecated, use keepdims instead\n",
            "Processing 2 image\n",
            "Processing 3 image\n",
            "Processing 4 image\n",
            "Processing 5 image\n",
            "Processing 6 image\n",
            "Processing 7 image\n",
            "Processing 8 image\n",
            "Processing 9 image\n",
            "Processing 10 image\n",
            "Processing 11 image\n",
            "Processing 12 image\n",
            "Processing 13 image\n",
            "Processing 14 image\n",
            "Processing 15 image\n",
            "Processing 16 image\n",
            "Processing 17 image\n",
            "Processing 18 image\n",
            "Processing 19 image\n",
            "Processing 20 image\n",
            "Processing 21 image\n",
            "Processing 22 image\n",
            "Processing 23 image\n",
            "Processing 24 image\n",
            "Processing 25 image\n",
            "Processing 26 image\n",
            "Processing 27 image\n",
            "Processing 28 image\n",
            "Processing 29 image\n",
            "Processing 30 image\n",
            "Processing 31 image\n",
            "Processing 32 image\n",
            "Processing 33 image\n",
            "Processing 34 image\n",
            "Processing 35 image\n",
            "Processing 36 image\n",
            "Processing 37 image\n",
            "Processing 38 image\n",
            "Processing 39 image\n",
            "Processing 40 image\n",
            "Processing 41 image\n",
            "Processing 42 image\n",
            "Processing 43 image\n",
            "Processing 45 image\n",
            "Processing 46 image\n",
            "Processing 47 image\n",
            "Processing 48 image\n",
            "Processing 49 image\n",
            "Processing 50 image\n",
            "Processing 53 image\n",
            "Processing 54 image\n",
            "Processing 55 image\n",
            "Processing 56 image\n",
            "Processing 57 image\n",
            "Processing 58 image\n",
            "Processing 59 image\n"
          ],
          "name": "stdout"
        },
        {
          "output_type": "execute_result",
          "data": {
            "text/plain": [
              "(56, 2)"
            ]
          },
          "metadata": {
            "tags": []
          },
          "execution_count": 14
        }
      ]
    },
    {
      "cell_type": "code",
      "metadata": {
        "id": "O53m-EUxzpI9",
        "colab_type": "code",
        "colab": {
          "base_uri": "https://localhost:8080/",
          "height": 34
        },
        "outputId": "2704e761-6833-42d2-ea82-7d24af469331"
      },
      "source": [
        "import numpy as np\n",
        "np.array(trainX).shape"
      ],
      "execution_count": 15,
      "outputs": [
        {
          "output_type": "execute_result",
          "data": {
            "text/plain": [
              "(56, 2)"
            ]
          },
          "metadata": {
            "tags": []
          },
          "execution_count": 15
        }
      ]
    },
    {
      "cell_type": "code",
      "metadata": {
        "id": "PnYIeaVrDNXj",
        "colab_type": "code",
        "colab": {}
      },
      "source": [
        "question_features_array = []\n",
        "image_features_array = []\n",
        "for x in trainX:\n",
        "  question_features_array.append(x[0])\n",
        "  image_features_array.append(x[1])"
      ],
      "execution_count": 0,
      "outputs": []
    },
    {
      "cell_type": "code",
      "metadata": {
        "id": "vKaHDfaODQIC",
        "colab_type": "code",
        "colab": {
          "base_uri": "https://localhost:8080/",
          "height": 51
        },
        "outputId": "0bd4d415-685b-4f0b-bf20-4a18eb0c2709"
      },
      "source": [
        "question_features_array = np.array(question_features_array)\n",
        "#image reshape to accomadate deep learning model\n",
        "image_features_array = np.array(image_features_array).reshape(56, 4096)\n",
        "print(question_features_array.shape)\n",
        "print(image_features_array.shape)"
      ],
      "execution_count": 30,
      "outputs": [
        {
          "output_type": "stream",
          "text": [
            "(56, 30, 300)\n",
            "(56, 4096)\n"
          ],
          "name": "stdout"
        }
      ]
    },
    {
      "cell_type": "code",
      "metadata": {
        "id": "0WiP91JiFrTo",
        "colab_type": "code",
        "colab": {}
      },
      "source": [
        ""
      ],
      "execution_count": 0,
      "outputs": []
    },
    {
      "cell_type": "code",
      "metadata": {
        "id": "IXpKO1NYDW1q",
        "colab_type": "code",
        "colab": {
          "base_uri": "https://localhost:8080/",
          "height": 71
        },
        "outputId": "f200581e-b1aa-46bc-bdc9-9f15affba422"
      },
      "source": [
        "trainY= []\n",
        "for training_data in training_datas:\n",
        "  img_id,text,output = training_data\n",
        "  trainY.append(output)\n",
        "print(len(trainY))\n",
        "print(trainY)"
      ],
      "execution_count": 31,
      "outputs": [
        {
          "output_type": "stream",
          "text": [
            "56\n",
            "['yes', 'single', 'multiple', 'foreign', 'yes', 'foreign', 'hand', 'skull', 'skull', 'skull', 'skull', 'hand', 'left', 'left', 'right', 'left', 'right', 'right', 'right', 'right', 'left', 'left', 'left', 'left', 'left', 'left', 'left', 'left', 'yes', 'yes', 'foreign', 'foreign', 'foreign', 'foreign', 'foreign', 'leg', 'leg', 'leg', 'leg', 'leg', 'leg', 'leg', 'multiple', 'multiple', 'multiple', 'no', 'no', 'no', 'no', 'no', 'no', 'yes', 'yes', 'yes', 'yes', 'yes']\n"
          ],
          "name": "stdout"
        }
      ]
    },
    {
      "cell_type": "code",
      "metadata": {
        "id": "dBeTXBQKDaUD",
        "colab_type": "code",
        "colab": {
          "base_uri": "https://localhost:8080/",
          "height": 54
        },
        "outputId": "0d895b60-7ab0-4de1-c907-04faef8d307f"
      },
      "source": [
        "set_trainy = list(set(trainY))\n",
        "trainY_labels = []\n",
        "for y in trainY:\n",
        "  trainY_labels.append(set_trainy.index(y))\n",
        "print(trainY_labels)"
      ],
      "execution_count": 32,
      "outputs": [
        {
          "output_type": "stream",
          "text": [
            "[6, 2, 7, 9, 6, 9, 1, 4, 4, 4, 4, 1, 5, 5, 0, 5, 0, 0, 0, 0, 5, 5, 5, 5, 5, 5, 5, 5, 6, 6, 9, 9, 9, 9, 9, 3, 3, 3, 3, 3, 3, 3, 7, 7, 7, 8, 8, 8, 8, 8, 8, 6, 6, 6, 6, 6]\n"
          ],
          "name": "stdout"
        }
      ]
    },
    {
      "cell_type": "code",
      "metadata": {
        "id": "vGQMd_XMDl56",
        "colab_type": "code",
        "colab": {}
      },
      "source": [
        "trainY_cate = keras.utils.to_categorical(trainY_labels, num_classes=10)"
      ],
      "execution_count": 0,
      "outputs": []
    },
    {
      "cell_type": "code",
      "metadata": {
        "id": "dhv26s9QDvFy",
        "colab_type": "code",
        "colab": {
          "base_uri": "https://localhost:8080/",
          "height": 1000
        },
        "outputId": "4294de80-c2d8-4fdf-bce9-575fdeeb0c4e"
      },
      "source": [
        "history = our_vqa_model.fit([question_features_array,image_features_array],trainY_cate,5,30)"
      ],
      "execution_count": 35,
      "outputs": [
        {
          "output_type": "stream",
          "text": [
            "Epoch 1/30\n",
            "56/56 [==============================] - 5s 82ms/step - loss: 0.3371\n",
            "Epoch 2/30\n",
            "56/56 [==============================] - 4s 77ms/step - loss: 0.4925\n",
            "Epoch 3/30\n",
            "56/56 [==============================] - 4s 72ms/step - loss: 0.1901\n",
            "Epoch 4/30\n",
            "56/56 [==============================] - 4s 68ms/step - loss: 0.2947\n",
            "Epoch 5/30\n",
            "56/56 [==============================] - 4s 73ms/step - loss: 0.1340\n",
            "Epoch 6/30\n",
            "56/56 [==============================] - 4s 70ms/step - loss: 0.1587\n",
            "Epoch 7/30\n",
            "56/56 [==============================] - 4s 76ms/step - loss: 0.2768\n",
            "Epoch 8/30\n",
            "56/56 [==============================] - 4s 78ms/step - loss: 0.1748\n",
            "Epoch 9/30\n",
            "56/56 [==============================] - 4s 76ms/step - loss: 0.1212\n",
            "Epoch 10/30\n",
            "56/56 [==============================] - 4s 77ms/step - loss: 0.2331\n",
            "Epoch 11/30\n",
            "56/56 [==============================] - 4s 69ms/step - loss: 0.0837\n",
            "Epoch 12/30\n",
            "56/56 [==============================] - 4s 78ms/step - loss: 0.1079\n",
            "Epoch 13/30\n",
            "56/56 [==============================] - 4s 72ms/step - loss: 0.0545\n",
            "Epoch 14/30\n",
            "56/56 [==============================] - 4s 77ms/step - loss: 0.0055\n",
            "Epoch 15/30\n",
            "56/56 [==============================] - 4s 76ms/step - loss: 0.0230\n",
            "Epoch 16/30\n",
            "56/56 [==============================] - 4s 74ms/step - loss: 2.2690e-04\n",
            "Epoch 17/30\n",
            "56/56 [==============================] - 4s 70ms/step - loss: 0.0319\n",
            "Epoch 18/30\n",
            "56/56 [==============================] - 4s 72ms/step - loss: 0.2903\n",
            "Epoch 19/30\n",
            "56/56 [==============================] - 4s 74ms/step - loss: 0.1060\n",
            "Epoch 20/30\n",
            "56/56 [==============================] - 4s 71ms/step - loss: 0.1912\n",
            "Epoch 21/30\n",
            "56/56 [==============================] - 4s 71ms/step - loss: 0.0124\n",
            "Epoch 22/30\n",
            "56/56 [==============================] - 4s 74ms/step - loss: 0.1267\n",
            "Epoch 23/30\n",
            "56/56 [==============================] - 4s 69ms/step - loss: 0.0648\n",
            "Epoch 24/30\n",
            "56/56 [==============================] - 4s 72ms/step - loss: 0.0147\n",
            "Epoch 25/30\n",
            "56/56 [==============================] - 4s 67ms/step - loss: 0.0681\n",
            "Epoch 26/30\n",
            "56/56 [==============================] - 4s 71ms/step - loss: 2.5458e-04\n",
            "Epoch 27/30\n",
            "56/56 [==============================] - 4s 73ms/step - loss: 6.3616e-04\n",
            "Epoch 28/30\n",
            "56/56 [==============================] - 4s 77ms/step - loss: 0.0121\n",
            "Epoch 29/30\n",
            "56/56 [==============================] - 4s 73ms/step - loss: 0.0729\n",
            "Epoch 30/30\n",
            "56/56 [==============================] - 4s 71ms/step - loss: 0.1294\n"
          ],
          "name": "stdout"
        }
      ]
    },
    {
      "cell_type": "code",
      "metadata": {
        "id": "tLBzGqW_Fswj",
        "colab_type": "code",
        "colab": {
          "base_uri": "https://localhost:8080/",
          "height": 295
        },
        "outputId": "3cfe9d22-fbf6-4a3a-8d86-5e7c46661513"
      },
      "source": [
        "import matplotlib.pyplot as plt\n",
        "# summarize history for accuracy\n",
        "plt.plot(history.history['loss'])\n",
        "plt.title('model loss')\n",
        "plt.ylabel('loss')\n",
        "plt.xlabel('epoch')\n",
        "plt.show()\n"
      ],
      "execution_count": 41,
      "outputs": [
        {
          "output_type": "display_data",
          "data": {
            "image/png": "[encoded data removed]",
            "text/plain": [
              "<Figure size 432x288 with 1 Axes>"
            ]
          },
          "metadata": {
            "tags": []
          }
        }
      ]
    },
    {
      "cell_type": "code",
      "metadata": {
        "id": "XHwcZjQQG5Ic",
        "colab_type": "code",
        "colab": {
          "base_uri": "https://localhost:8080/",
          "height": 51
        },
        "outputId": "fcb81dc5-61b7-4f40-cb85-3344b13d44ec"
      },
      "source": [
        "our_vqa_model.predict_classes([question_features_array[0:1],image_features_array[0:1]])"
      ],
      "execution_count": 47,
      "outputs": [
        {
          "output_type": "stream",
          "text": [
            "\r1/1 [==============================] - 0s 32ms/step\n"
          ],
          "name": "stdout"
        },
        {
          "output_type": "execute_result",
          "data": {
            "text/plain": [
              "array([0])"
            ]
          },
          "metadata": {
            "tags": []
          },
          "execution_count": 47
        }
      ]
    },
    {
      "cell_type": "code",
      "metadata": {
        "id": "h9hf45riMeoF",
        "colab_type": "code",
        "colab": {
          "base_uri": "https://localhost:8080/",
          "height": 34
        },
        "outputId": "9bba95c1-6ff8-4dc4-c32d-bc18f01cb13f"
      },
      "source": [
        "image_features_array[0:1].shape"
      ],
      "execution_count": 57,
      "outputs": [
        {
          "output_type": "execute_result",
          "data": {
            "text/plain": [
              "(1, 4096)"
            ]
          },
          "metadata": {
            "tags": []
          },
          "execution_count": 57
        }
      ]
    },
    {
      "cell_type": "code",
      "metadata": {
        "id": "8rF3ejJrGaZW",
        "colab_type": "code",
        "colab": {
          "base_uri": "https://localhost:8080/",
          "height": 68
        },
        "outputId": "34e81267-e92c-4fe7-9df4-7ef0e424c67a"
      },
      "source": [
        "our_vqa_model.predict([question_features_array[0:1],image_features_array[0:1]])"
      ],
      "execution_count": 45,
      "outputs": [
        {
          "output_type": "execute_result",
          "data": {
            "text/plain": [
              "array([[9.99886990e-01, 1.10582118e-06, 6.00853634e-09, 5.70172993e-08,\n",
              "        6.24024636e-08, 1.42820165e-08, 1.10899266e-04, 7.82629378e-11,\n",
              "        3.49850495e-08, 8.05331752e-07]], dtype=float32)"
            ]
          },
          "metadata": {
            "tags": []
          },
          "execution_count": 45
        }
      ]
    },
    {
      "cell_type": "code",
      "metadata": {
        "id": "Q26wMXVZIVEU",
        "colab_type": "code",
        "colab": {}
      },
      "source": [
        "def convert_questions_features(text):\n",
        "  word_embeddings = spacy.load('en_core_web_md')\n",
        "  tokens = word_embeddings(text)\n",
        "  question_tensor = np.zeros((30, 300))\n",
        "  for j in range(len(tokens)):\n",
        "    question_tensor[j,:] = tokens[j].vector\n",
        "  question_tensor = np.array(question_tensor)\n",
        "  return question_tensor\n",
        "\n"
      ],
      "execution_count": 0,
      "outputs": []
    },
    {
      "cell_type": "code",
      "metadata": {
        "id": "dE9oRaUGKYNc",
        "colab_type": "code",
        "colab": {}
      },
      "source": [
        "def covert_image_features(image_path):\n",
        "  image_features = get_image_features_without_fd(image_path)\n",
        "  image_features = np.array(image_features_array).reshape(56, 4096)\n",
        "  return image_features\n",
        "\n"
      ],
      "execution_count": 0,
      "outputs": []
    },
    {
      "cell_type": "code",
      "metadata": {
        "id": "v8sNfmbUMBK8",
        "colab_type": "code",
        "colab": {}
      },
      "source": [
        ""
      ],
      "execution_count": 0,
      "outputs": []
    },
    {
      "cell_type": "code",
      "metadata": {
        "id": "N_-LPB3uLvEF",
        "colab_type": "code",
        "colab": {
          "base_uri": "https://localhost:8080/",
          "height": 34
        },
        "outputId": "a43c48ba-c14b-4e76-aa84-f4195a419450"
      },
      "source": [
        "covert_image_features('/content/Images/1.jpg').shape"
      ],
      "execution_count": 54,
      "outputs": [
        {
          "output_type": "execute_result",
          "data": {
            "text/plain": [
              "(56, 4096)"
            ]
          },
          "metadata": {
            "tags": []
          },
          "execution_count": 54
        }
      ]
    },
    {
      "cell_type": "code",
      "metadata": {
        "id": "lCohQuSbL8HM",
        "colab_type": "code",
        "colab": {
          "base_uri": "https://localhost:8080/",
          "height": 183
        },
        "outputId": "d00d15e2-4dfc-4ff8-dae9-73ba1000bd51"
      },
      "source": [
        "our_vqa_model.predict_classes([convert_questions_features(\"is this xray\").reshape(1,30,300),covert_image_features('/content/Images/1.jpg').reshape(1,4096)])"
      ],
      "execution_count": 58,
      "outputs": [
        {
          "output_type": "error",
          "ename": "ValueError",
          "evalue": "ignored",
          "traceback": [
            "\u001b[0;31m---------------------------------------------------------------------------\u001b[0m",
            "\u001b[0;31mValueError\u001b[0m                                Traceback (most recent call last)",
            "\u001b[0;32m<ipython-input-58-e85651aabb49>\u001b[0m in \u001b[0;36m<module>\u001b[0;34m()\u001b[0m\n\u001b[0;32m----> 1\u001b[0;31m \u001b[0mour_vqa_model\u001b[0m\u001b[0;34m.\u001b[0m\u001b[0mpredict_classes\u001b[0m\u001b[0;34m(\u001b[0m\u001b[0;34m[\u001b[0m\u001b[0mconvert_questions_features\u001b[0m\u001b[0;34m(\u001b[0m\u001b[0;34m\"is this xray\"\u001b[0m\u001b[0;34m)\u001b[0m\u001b[0;34m.\u001b[0m\u001b[0mreshape\u001b[0m\u001b[0;34m(\u001b[0m\u001b[0;36m1\u001b[0m\u001b[0;34m,\u001b[0m\u001b[0;36m30\u001b[0m\u001b[0;34m,\u001b[0m\u001b[0;36m300\u001b[0m\u001b[0;34m)\u001b[0m\u001b[0;34m,\u001b[0m\u001b[0mcovert_image_features\u001b[0m\u001b[0;34m(\u001b[0m\u001b[0;34m'/content/Images/1.jpg'\u001b[0m\u001b[0;34m)\u001b[0m\u001b[0;34m.\u001b[0m\u001b[0mreshape\u001b[0m\u001b[0;34m(\u001b[0m\u001b[0;36m1\u001b[0m\u001b[0;34m,\u001b[0m\u001b[0;36m4096\u001b[0m\u001b[0;34m)\u001b[0m\u001b[0;34m]\u001b[0m\u001b[0;34m)\u001b[0m\u001b[0;34m\u001b[0m\u001b[0;34m\u001b[0m\u001b[0m\n\u001b[0m",
            "\u001b[0;31mValueError\u001b[0m: cannot reshape array of size 229376 into shape (1,4096)"
          ]
        }
      ]
    }
  ]
}